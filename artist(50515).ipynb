{
 "cells": [
  {
   "cell_type": "code",
   "execution_count": 1,
   "id": "electrical-coast",
   "metadata": {},
   "outputs": [
    {
     "data": {
      "text/html": [
       "\n",
       "\t\t\t<script type=\"text/javascript\">\n",
       "\t\t\t<!--\n",
       "\t\t\t\t\n",
       "\t\t\t{\n",
       "\t\t\t\tvar element = document.getElementById('NetworKit_script');\n",
       "\t\t\t\tif (element) {\n",
       "\t\t\t\t\telement.parentNode.removeChild(element);\n",
       "\t\t\t\t}\n",
       "\t\t\t\telement = document.createElement('script');\n",
       "\t\t\t\telement.type = 'text/javascript';\n",
       "\t\t\t\telement.innerHTML = 'function NetworKit_pageEmbed(id) { var i, j; var elements; elements = document.getElementById(id).getElementsByClassName(\"Plot\"); for (i=0; i<elements.length; i++) { elements[i].id = id + \"_Plot_\" + i; var data = elements[i].getAttribute(\"data-image\").split(\"|\"); elements[i].removeAttribute(\"data-image\"); var content = \"<div class=\\\\\"Image\\\\\" id=\\\\\"\" + elements[i].id + \"_Image\\\\\" />\"; elements[i].innerHTML = content; elements[i].setAttribute(\"data-image-index\", 0); elements[i].setAttribute(\"data-image-length\", data.length); for (j=0; j<data.length; j++) { elements[i].setAttribute(\"data-image-\" + j, data[j]); } NetworKit_plotUpdate(elements[i]); elements[i].onclick = function (e) { NetworKit_overlayShow((e.target) ? e.target : e.srcElement); } } elements = document.getElementById(id).getElementsByClassName(\"HeatCell\"); for (i=0; i<elements.length; i++) { var data = parseFloat(elements[i].getAttribute(\"data-heat\")); var color = \"#00FF00\"; if (data <= 1 && data > 0) { color = \"hsla(0, 100%, 75%, \" + (data) + \")\"; } else if (data <= 0 && data >= -1) { color = \"hsla(240, 100%, 75%, \" + (-data) + \")\"; } elements[i].style.backgroundColor = color; } elements = document.getElementById(id).getElementsByClassName(\"Details\"); for (i=0; i<elements.length; i++) { elements[i].setAttribute(\"data-title\", \"-\"); NetworKit_toggleDetails(elements[i]); elements[i].onclick = function (e) { NetworKit_toggleDetails((e.target) ? e.target : e.srcElement); } } elements = document.getElementById(id).getElementsByClassName(\"MathValue\"); for (i=elements.length-1; i>=0; i--) { value = elements[i].innerHTML.trim(); if (value === \"nan\") { elements[i].parentNode.innerHTML = \"\" } } elements = document.getElementById(id).getElementsByClassName(\"SubCategory\"); for (i=elements.length-1; i>=0; i--) { value = elements[i].innerHTML.trim(); if (value === \"\") { elements[i].parentNode.removeChild(elements[i]) } } elements = document.getElementById(id).getElementsByClassName(\"Category\"); for (i=elements.length-1; i>=0; i--) { value = elements[i].innerHTML.trim(); if (value === \"\") { elements[i].parentNode.removeChild(elements[i]) } } var isFirefox = false; try { isFirefox = typeof InstallTrigger !== \"undefined\"; } catch (e) {} if (!isFirefox) { alert(\"Currently the function\\'s output is only fully supported by Firefox.\"); } } function NetworKit_plotUpdate(source) { var index = source.getAttribute(\"data-image-index\"); var data = source.getAttribute(\"data-image-\" + index); var image = document.getElementById(source.id + \"_Image\"); image.style.backgroundImage = \"url(\" + data + \")\"; } function NetworKit_showElement(id, show) { var element = document.getElementById(id); element.style.display = (show) ? \"block\" : \"none\"; } function NetworKit_overlayShow(source) { NetworKit_overlayUpdate(source); NetworKit_showElement(\"NetworKit_Overlay\", true); } function NetworKit_overlayUpdate(source) { document.getElementById(\"NetworKit_Overlay_Title\").innerHTML = source.title; var index = source.getAttribute(\"data-image-index\"); var data = source.getAttribute(\"data-image-\" + index); var image = document.getElementById(\"NetworKit_Overlay_Image\"); image.setAttribute(\"data-id\", source.id); image.style.backgroundImage = \"url(\" + data + \")\"; var link = document.getElementById(\"NetworKit_Overlay_Toolbar_Bottom_Save\"); link.href = data; link.download = source.title + \".svg\"; } function NetworKit_overlayImageShift(delta) { var image = document.getElementById(\"NetworKit_Overlay_Image\"); var source = document.getElementById(image.getAttribute(\"data-id\")); var index = parseInt(source.getAttribute(\"data-image-index\")); var length = parseInt(source.getAttribute(\"data-image-length\")); var index = (index+delta) % length; if (index < 0) { index = length + index; } source.setAttribute(\"data-image-index\", index); NetworKit_overlayUpdate(source); } function NetworKit_toggleDetails(source) { var childs = source.children; var show = false; if (source.getAttribute(\"data-title\") == \"-\") { source.setAttribute(\"data-title\", \"+\"); show = false; } else { source.setAttribute(\"data-title\", \"-\"); show = true; } for (i=0; i<childs.length; i++) { if (show) { childs[i].style.display = \"block\"; } else { childs[i].style.display = \"none\"; } } }';\n",
       "\t\t\t\telement.setAttribute('id', 'NetworKit_script');\n",
       "\t\t\t\tdocument.head.appendChild(element);\n",
       "\t\t\t}\n",
       "\t\t\n",
       "\t\t\t\t\n",
       "\t\t\t{\n",
       "\t\t\t\tvar element = document.getElementById('NetworKit_style');\n",
       "\t\t\t\tif (element) {\n",
       "\t\t\t\t\telement.parentNode.removeChild(element);\n",
       "\t\t\t\t}\n",
       "\t\t\t\telement = document.createElement('style');\n",
       "\t\t\t\telement.type = 'text/css';\n",
       "\t\t\t\telement.innerHTML = '.NetworKit_Page { font-family: Arial, Helvetica, sans-serif; font-size: 14px; } .NetworKit_Page .Value:before { font-family: Arial, Helvetica, sans-serif; font-size: 1.05em; content: attr(data-title) \":\"; margin-left: -2.5em; padding-right: 0.5em; } .NetworKit_Page .Details .Value:before { display: block; } .NetworKit_Page .Value { font-family: monospace; white-space: pre; padding-left: 2.5em; white-space: -moz-pre-wrap !important; white-space: -pre-wrap; white-space: -o-pre-wrap; white-space: pre-wrap; word-wrap: break-word; tab-size: 4; -moz-tab-size: 4; } .NetworKit_Page .Category { clear: both; padding-left: 1em; margin-bottom: 1.5em; } .NetworKit_Page .Category:before { content: attr(data-title); font-size: 1.75em; display: block; margin-left: -0.8em; margin-bottom: 0.5em; } .NetworKit_Page .SubCategory { margin-bottom: 1.5em; padding-left: 1em; } .NetworKit_Page .SubCategory:before { font-size: 1.6em; display: block; margin-left: -0.8em; margin-bottom: 0.5em; } .NetworKit_Page .SubCategory[data-title]:before { content: attr(data-title); } .NetworKit_Page .Block { display: block; } .NetworKit_Page .Block:after { content: \".\"; visibility: hidden; display: block; height: 0; clear: both; } .NetworKit_Page .Block .Thumbnail_Overview, .NetworKit_Page .Block .Thumbnail_ScatterPlot { width: 260px; float: left; } .NetworKit_Page .Block .Thumbnail_Overview img, .NetworKit_Page .Block .Thumbnail_ScatterPlot img { width: 260px; } .NetworKit_Page .Block .Thumbnail_Overview:before, .NetworKit_Page .Block .Thumbnail_ScatterPlot:before { display: block; text-align: center; font-weight: bold; } .NetworKit_Page .Block .Thumbnail_Overview:before { content: attr(data-title); } .NetworKit_Page .HeatCell { font-family: \"Courier New\", Courier, monospace; cursor: pointer; } .NetworKit_Page .HeatCell, .NetworKit_Page .HeatCellName { display: inline; padding: 0.1em; margin-right: 2px; background-color: #FFFFFF } .NetworKit_Page .HeatCellName { margin-left: 0.25em; } .NetworKit_Page .HeatCell:before { content: attr(data-heat); display: inline-block; color: #000000; width: 4em; text-align: center; } .NetworKit_Page .Measure { clear: both; } .NetworKit_Page .Measure .Details { cursor: pointer; } .NetworKit_Page .Measure .Details:before { content: \"[\" attr(data-title) \"]\"; display: block; } .NetworKit_Page .Measure .Details .Value { border-left: 1px dotted black; margin-left: 0.4em; padding-left: 3.5em; pointer-events: none; } .NetworKit_Page .Measure .Details .Spacer:before { content: \".\"; opacity: 0.0; pointer-events: none; } .NetworKit_Page .Measure .Plot { width: 440px; height: 440px; cursor: pointer; float: left; margin-left: -0.9em; margin-right: 20px; } .NetworKit_Page .Measure .Plot .Image { background-repeat: no-repeat; background-position: center center; background-size: contain; height: 100%; pointer-events: none; } .NetworKit_Page .Measure .Stat { width: 500px; float: left; } .NetworKit_Page .Measure .Stat .Group { padding-left: 1.25em; margin-bottom: 0.75em; } .NetworKit_Page .Measure .Stat .Group .Title { font-size: 1.1em; display: block; margin-bottom: 0.3em; margin-left: -0.75em; border-right-style: dotted; border-right-width: 1px; border-bottom-style: dotted; border-bottom-width: 1px; background-color: #D0D0D0; padding-left: 0.2em; } .NetworKit_Page .Measure .Stat .Group .List { -webkit-column-count: 3; -moz-column-count: 3; column-count: 3; } .NetworKit_Page .Measure .Stat .Group .List .Entry { position: relative; line-height: 1.75em; } .NetworKit_Page .Measure .Stat .Group .List .Entry[data-tooltip]:before { position: absolute; left: 0; top: -40px; background-color: #808080; color: #ffffff; height: 30px; line-height: 30px; border-radius: 5px; padding: 0 15px; content: attr(data-tooltip); white-space: nowrap; display: none; } .NetworKit_Page .Measure .Stat .Group .List .Entry[data-tooltip]:after { position: absolute; left: 15px; top: -10px; border-top: 7px solid #808080; border-left: 7px solid transparent; border-right: 7px solid transparent; content: \"\"; display: none; } .NetworKit_Page .Measure .Stat .Group .List .Entry[data-tooltip]:hover:after, .NetworKit_Page .Measure .Stat .Group .List .Entry[data-tooltip]:hover:before { display: block; } .NetworKit_Page .Measure .Stat .Group .List .Entry .MathValue { font-family: \"Courier New\", Courier, monospace; } .NetworKit_Page .Measure:after { content: \".\"; visibility: hidden; display: block; height: 0; clear: both; } .NetworKit_Page .PartitionPie { clear: both; } .NetworKit_Page .PartitionPie img { width: 600px; } #NetworKit_Overlay { left: 0px; top: 0px; display: none; position: absolute; width: 100%; height: 100%; background-color: rgba(0,0,0,0.6); z-index: 1000; } #NetworKit_Overlay_Title { position: absolute; color: white; transform: rotate(-90deg); width: 32em; height: 32em; padding-right: 0.5em; padding-top: 0.5em; text-align: right; font-size: 40px; } #NetworKit_Overlay .button { background: white; cursor: pointer; } #NetworKit_Overlay .button:before { size: 13px; display: inline-block; text-align: center; margin-top: 0.5em; margin-bottom: 0.5em; width: 1.5em; height: 1.5em; } #NetworKit_Overlay .icon-close:before { content: \"X\"; } #NetworKit_Overlay .icon-previous:before { content: \"P\"; } #NetworKit_Overlay .icon-next:before { content: \"N\"; } #NetworKit_Overlay .icon-save:before { content: \"S\"; } #NetworKit_Overlay_Toolbar_Top, #NetworKit_Overlay_Toolbar_Bottom { position: absolute; width: 40px; right: 13px; text-align: right; z-index: 1100; } #NetworKit_Overlay_Toolbar_Top { top: 0.5em; } #NetworKit_Overlay_Toolbar_Bottom { Bottom: 0.5em; } #NetworKit_Overlay_ImageContainer { position: absolute; top: 5%; left: 5%; height: 90%; width: 90%; background-repeat: no-repeat; background-position: center center; background-size: contain; } #NetworKit_Overlay_Image { height: 100%; width: 100%; background-repeat: no-repeat; background-position: center center; background-size: contain; }';\n",
       "\t\t\t\telement.setAttribute('id', 'NetworKit_style');\n",
       "\t\t\t\tdocument.head.appendChild(element);\n",
       "\t\t\t}\n",
       "\t\t\n",
       "\t\t\t\t\n",
       "\t\t\t{\n",
       "\t\t\t\tvar element = document.getElementById('NetworKit_Overlay');\n",
       "\t\t\t\tif (element) {\n",
       "\t\t\t\t\telement.parentNode.removeChild(element);\n",
       "\t\t\t\t}\n",
       "\t\t\t\telement = document.createElement('div');\n",
       "\t\t\t\telement.innerHTML = '<div id=\"NetworKit_Overlay_Toolbar_Top\"><div class=\"button icon-close\" id=\"NetworKit_Overlay_Close\" /></div><div id=\"NetworKit_Overlay_Title\" /> <div id=\"NetworKit_Overlay_ImageContainer\"> <div id=\"NetworKit_Overlay_Image\" /> </div> <div id=\"NetworKit_Overlay_Toolbar_Bottom\"> <div class=\"button icon-previous\" onclick=\"NetworKit_overlayImageShift(-1)\" /> <div class=\"button icon-next\" onclick=\"NetworKit_overlayImageShift(1)\" /> <a id=\"NetworKit_Overlay_Toolbar_Bottom_Save\"><div class=\"button icon-save\" /></a> </div>';\n",
       "\t\t\t\telement.setAttribute('id', 'NetworKit_Overlay');\n",
       "\t\t\t\tdocument.body.appendChild(element);\n",
       "\t\t\t\tdocument.getElementById('NetworKit_Overlay_Close').onclick = function (e) {\n",
       "\t\t\t\t\tdocument.getElementById('NetworKit_Overlay').style.display = 'none';\n",
       "\t\t\t\t}\n",
       "\t\t\t}\n",
       "\t\t\n",
       "\t\t\t-->\n",
       "\t\t\t</script>\n",
       "\t\t"
      ]
     },
     "metadata": {},
     "output_type": "display_data"
    }
   ],
   "source": [
    "import networkit as nk\n",
    "import graph_tool.all as gt\n",
    "import networkx as nx\n",
    "\n",
    "import powerlaw\n",
    "import matplotlib.pyplot as plt\n",
    "\n",
    "from plots import Plots\n",
    "from tools import values_frequency"
   ]
  },
  {
   "cell_type": "markdown",
   "id": "suitable-variation",
   "metadata": {},
   "source": [
    "## load"
   ]
  },
  {
   "cell_type": "code",
   "execution_count": 2,
   "id": "naval-requirement",
   "metadata": {},
   "outputs": [],
   "source": [
    "snapReader = nk.graphio.SNAPGraphReader(False, False)\n",
    "G_nk = snapReader.read(\"data/facebook_clean_data/artist_edges.csv\")"
   ]
  },
  {
   "cell_type": "code",
   "execution_count": 3,
   "id": "working-bahamas",
   "metadata": {},
   "outputs": [],
   "source": [
    "G_gt = gt.load_graph_from_csv(\"data/facebook_clean_data/artist_edges.csv\", csv_options={\"delimiter\": \" \"})"
   ]
  },
  {
   "cell_type": "markdown",
   "id": "certain-commission",
   "metadata": {},
   "source": [
    "## topology parameters"
   ]
  },
  {
   "cell_type": "code",
   "execution_count": 4,
   "id": "oriented-thinking",
   "metadata": {},
   "outputs": [
    {
     "name": "stdout",
     "output_type": "stream",
     "text": [
      "number of nodes: 50515\n",
      "number of edges: 819306\n",
      "min degree: 1\n",
      "max degree: 1469\n",
      "average degree: 32.433851331287734\n",
      "----------------------------------------------------------------\n",
      "estimated gamma: 3.0696254581658513\n"
     ]
    },
    {
     "name": "stderr",
     "output_type": "stream",
     "text": [
      "Calculating best minimal value for power law fit\n",
      "/home/sahar/Documents/NetworkAnalysis/venv/lib/python3.8/site-packages/powerlaw.py:699: RuntimeWarning: invalid value encountered in true_divide\n",
      "  (CDF_diff**2) /\n"
     ]
    }
   ],
   "source": [
    "degrees = [G_nk.degree(v) for v in G_nk.iterNodes()]\n",
    "degree_distr = sorted(nk.centrality.DegreeCentrality(G_nk).run().scores(), reverse=True)\n",
    "fitted_distr = powerlaw.Fit(degree_distr)\n",
    "\n",
    "print('number of nodes: {}'.format(G_nk.numberOfNodes()))\n",
    "print('number of edges: {}'.format(G_nk.numberOfEdges()))\n",
    "print('min degree: {}'.format(min(degrees)))\n",
    "print('max degree: {}'.format(max(degrees)))\n",
    "print('average degree: {}'.format(sum(degrees)/len(degrees)))\n",
    "print('----------------------------------------------------------------')\n",
    "print('estimated gamma: {}'.format(fitted_distr.alpha))"
   ]
  },
  {
   "cell_type": "code",
   "execution_count": 5,
   "id": "creative-translation",
   "metadata": {},
   "outputs": [
    {
     "name": "stderr",
     "output_type": "stream",
     "text": [
      "Calculating best minimal value for power law fit\n"
     ]
    },
    {
     "name": "stdout",
     "output_type": "stream",
     "text": [
      "number of nodes: 50515\n",
      "number of edges: 819306\n",
      "min degree: 1\n",
      "max degree: 1469\n",
      "average degree: 32.43812728892408\n",
      "----------------------------------------------------------------\n",
      "estimated gamma: 3.0207680134943375\n"
     ]
    }
   ],
   "source": [
    "degrees = G_gt.get_total_degrees(G_gt.get_vertices())\n",
    "degree_distr, freq = values_frequency(degrees)\n",
    "fitted_distr = powerlaw.Fit(degree_distr)\n",
    "\n",
    "print('number of nodes: {}'.format(G_gt.num_vertices()))\n",
    "print('number of edges: {}'.format(G_gt.num_edges()))\n",
    "print('min degree: {}'.format(min(degrees)))\n",
    "print('max degree: {}'.format(max(degrees)))\n",
    "print('average degree: {}'.format(sum(degrees)/len(degrees)))\n",
    "print('----------------------------------------------------------------')\n",
    "print('estimated gamma: {}'.format(fitted_distr.alpha))"
   ]
  },
  {
   "cell_type": "markdown",
   "id": "freelance-strain",
   "metadata": {},
   "source": [
    "## graph density"
   ]
  },
  {
   "cell_type": "code",
   "execution_count": 6,
   "id": "laughing-disney",
   "metadata": {},
   "outputs": [
    {
     "name": "stdout",
     "output_type": "stream",
     "text": [
      "CPU times: user 3 µs, sys: 0 ns, total: 3 µs\n",
      "Wall time: 5.25 µs\n",
      "the graph density equals: 0.0006421611293685727\n"
     ]
    }
   ],
   "source": [
    "%time\n",
    "graph_density = G_nk.numberOfEdges() / ((G_nk.numberOfNodes()*(G_nk.numberOfNodes()-1))/2)\n",
    "print('the graph density equals: {}'.format(graph_density))"
   ]
  },
  {
   "cell_type": "markdown",
   "id": "economic-decimal",
   "metadata": {},
   "source": [
    "## clustering coefficient"
   ]
  },
  {
   "cell_type": "code",
   "execution_count": 7,
   "id": "impressive-retail",
   "metadata": {},
   "outputs": [
    {
     "name": "stdout",
     "output_type": "stream",
     "text": [
      "CPU times: user 2 µs, sys: 1e+03 ns, total: 3 µs\n",
      "Wall time: 5.01 µs\n",
      "the clustering coefficient of the graph equals: 0.15230608876921742\n"
     ]
    }
   ],
   "source": [
    "%time\n",
    "clustering_coefficient = nk.globals.clustering(G_nk)\n",
    "print('the clustering coefficient of the graph equals: {}'.format(clustering_coefficient))"
   ]
  },
  {
   "cell_type": "code",
   "execution_count": 8,
   "id": "suited-snowboard",
   "metadata": {},
   "outputs": [
    {
     "name": "stdout",
     "output_type": "stream",
     "text": [
      "CPU times: user 4 µs, sys: 0 ns, total: 4 µs\n",
      "Wall time: 7.63 µs\n",
      "the clustering coefficient of the graph equals: 0.05349710994355287\n"
     ]
    }
   ],
   "source": [
    "%time\n",
    "clustering_coefficient = gt.global_clustering(G_gt)\n",
    "print('the clustering coefficient of the graph equals: {}'.format(clustering_coefficient[0]))"
   ]
  },
  {
   "cell_type": "markdown",
   "id": "opening-mexico",
   "metadata": {},
   "source": [
    "## assortativity"
   ]
  },
  {
   "cell_type": "code",
   "execution_count": 9,
   "id": "finished-biodiversity",
   "metadata": {},
   "outputs": [
    {
     "name": "stdout",
     "output_type": "stream",
     "text": [
      "CPU times: user 4 µs, sys: 1 µs, total: 5 µs\n",
      "Wall time: 7.15 µs\n",
      "assortativity coefficient is: -0.01906626068251133\n"
     ]
    }
   ],
   "source": [
    "%time\n",
    "G_nx = nk.nxadapter.nk2nx(G_nk)\n",
    "assortativity = nx.degree_assortativity_coefficient(G_nx)\n",
    "print('assortativity coefficient is: {}'.format(assortativity))"
   ]
  },
  {
   "cell_type": "code",
   "execution_count": 10,
   "id": "statewide-organization",
   "metadata": {},
   "outputs": [
    {
     "name": "stdout",
     "output_type": "stream",
     "text": [
      "CPU times: user 2 µs, sys: 0 ns, total: 2 µs\n",
      "Wall time: 4.53 µs\n",
      "assortativity coefficient is: (0.001832800048164561, 8.644549118279209e-05)\n"
     ]
    }
   ],
   "source": [
    "%time\n",
    "assortativity = gt.assortativity(G_gt, \"total\")\n",
    "print('assortativity coefficient is: {}'.format(assortativity))"
   ]
  },
  {
   "cell_type": "markdown",
   "id": "meaning-screen",
   "metadata": {},
   "source": [
    "# community detection"
   ]
  },
  {
   "cell_type": "markdown",
   "id": "encouraging-palestinian",
   "metadata": {},
   "source": [
    "## label propagation"
   ]
  },
  {
   "cell_type": "code",
   "execution_count": 11,
   "id": "informational-undergraduate",
   "metadata": {},
   "outputs": [
    {
     "name": "stdout",
     "output_type": "stream",
     "text": [
      "PLM(balanced,pc,turbo) detected communities in 0.20842313766479492 [s]\n",
      "solution properties:\n",
      "-------------------  -----------\n",
      "# communities          34\n",
      "min community size      4\n",
      "max community size   9078\n",
      "avg. community size  1485.74\n",
      "modularity              0.615362\n",
      "-------------------  -----------\n",
      "PLM(balanced,pc,turbo) detected communities in 0.15722203254699707 [s]\n",
      "solution properties:\n",
      "-------------------  -----------\n",
      "# communities          27\n",
      "min community size      4\n",
      "max community size   9823\n",
      "avg. community size  1870.93\n",
      "modularity              0.610753\n",
      "-------------------  -----------\n",
      "PLM(balanced,pc,turbo) detected communities in 0.17978739738464355 [s]\n",
      "solution properties:\n",
      "-------------------  -----------\n",
      "# communities           32\n",
      "min community size       4\n",
      "max community size   10105\n",
      "avg. community size   1578.59\n",
      "modularity               0.60803\n",
      "-------------------  -----------\n",
      "PLM(balanced,pc,turbo) detected communities in 0.21448802947998047 [s]\n",
      "solution properties:\n",
      "-------------------  -----------\n",
      "# communities          25\n",
      "min community size      4\n",
      "max community size   9327\n",
      "avg. community size  2020.6\n",
      "modularity              0.611856\n",
      "-------------------  -----------\n",
      "PLM(balanced,pc,turbo) detected communities in 0.17778992652893066 [s]\n",
      "solution properties:\n",
      "-------------------  -----------\n",
      "# communities           32\n",
      "min community size       4\n",
      "max community size   11197\n",
      "avg. community size   1578.59\n",
      "modularity               0.60554\n",
      "-------------------  -----------\n",
      "PLM(balanced,pc,turbo) detected communities in 0.1708686351776123 [s]\n",
      "solution properties:\n",
      "-------------------  -----------\n",
      "# communities          26\n",
      "min community size      4\n",
      "max community size   8726\n",
      "avg. community size  1942.88\n",
      "modularity              0.615591\n",
      "-------------------  -----------\n",
      "PLM(balanced,pc,turbo) detected communities in 0.22108960151672363 [s]\n",
      "solution properties:\n",
      "-------------------  ------------\n",
      "# communities           31\n",
      "min community size       4\n",
      "max community size   10851\n",
      "avg. community size   1629.52\n",
      "modularity               0.615357\n",
      "-------------------  ------------\n",
      "PLM(balanced,pc,turbo) detected communities in 0.2232213020324707 [s]\n",
      "solution properties:\n",
      "-------------------  -----------\n",
      "# communities          24\n",
      "min community size      4\n",
      "max community size   8951\n",
      "avg. community size  2104.79\n",
      "modularity              0.614846\n",
      "-------------------  -----------\n",
      "215 ms ± 27 ms per loop (mean ± std. dev. of 7 runs, 1 loop each)\n"
     ]
    }
   ],
   "source": [
    "%timeit label_prop_communities = nk.community.detectCommunities(G_nk, algo=nk.community.PLM(G_nk))"
   ]
  },
  {
   "cell_type": "markdown",
   "id": "optimum-ability",
   "metadata": {},
   "source": [
    "## louvian method"
   ]
  },
  {
   "cell_type": "code",
   "execution_count": 12,
   "id": "champion-vision",
   "metadata": {},
   "outputs": [
    {
     "name": "stdout",
     "output_type": "stream",
     "text": [
      "PLM(balanced,pc,turbo) detected communities in 0.23178339004516602 [s]\n",
      "solution properties:\n",
      "-------------------  ------------\n",
      "# communities           33\n",
      "min community size       3\n",
      "max community size   10432\n",
      "avg. community size   1530.76\n",
      "modularity               0.613134\n",
      "-------------------  ------------\n",
      "PLM(balanced,pc,turbo) detected communities in 0.25515031814575195 [s]\n",
      "solution properties:\n",
      "-------------------  ------------\n",
      "# communities           32\n",
      "min community size       4\n",
      "max community size   10385\n",
      "avg. community size   1578.59\n",
      "modularity               0.615967\n",
      "-------------------  ------------\n",
      "PLM(balanced,pc,turbo) detected communities in 0.27351927757263184 [s]\n",
      "solution properties:\n",
      "-------------------  -----------\n",
      "# communities          32\n",
      "min community size      4\n",
      "max community size   9335\n",
      "avg. community size  1578.59\n",
      "modularity              0.615428\n",
      "-------------------  -----------\n",
      "PLM(balanced,pc,turbo) detected communities in 0.18131136894226074 [s]\n",
      "solution properties:\n",
      "-------------------  ------------\n",
      "# communities           29\n",
      "min community size       4\n",
      "max community size   11314\n",
      "avg. community size   1741.9\n",
      "modularity               0.611692\n",
      "-------------------  ------------\n",
      "PLM(balanced,pc,turbo) detected communities in 0.2486283779144287 [s]\n",
      "solution properties:\n",
      "-------------------  -----------\n",
      "# communities          27\n",
      "min community size      4\n",
      "max community size   8711\n",
      "avg. community size  1870.93\n",
      "modularity              0.614674\n",
      "-------------------  -----------\n",
      "PLM(balanced,pc,turbo) detected communities in 0.20645761489868164 [s]\n",
      "solution properties:\n",
      "-------------------  ------------\n",
      "# communities           31\n",
      "min community size       4\n",
      "max community size   11284\n",
      "avg. community size   1629.52\n",
      "modularity               0.602829\n",
      "-------------------  ------------\n",
      "PLM(balanced,pc,turbo) detected communities in 0.21380352973937988 [s]\n",
      "solution properties:\n",
      "-------------------  ------------\n",
      "# communities           29\n",
      "min community size       4\n",
      "max community size   10804\n",
      "avg. community size   1741.9\n",
      "modularity               0.615217\n",
      "-------------------  ------------\n",
      "PLM(balanced,pc,turbo) detected communities in 0.14731526374816895 [s]\n",
      "solution properties:\n",
      "-------------------  ------------\n",
      "# communities           31\n",
      "min community size       4\n",
      "max community size   11356\n",
      "avg. community size   1629.52\n",
      "modularity               0.609394\n",
      "-------------------  ------------\n",
      "241 ms ± 40.2 ms per loop (mean ± std. dev. of 7 runs, 1 loop each)\n"
     ]
    }
   ],
   "source": [
    "%timeit louvian_communities = nk.community.detectCommunities(G_nk, algo=nk.community.PLM(G_nk))"
   ]
  },
  {
   "cell_type": "markdown",
   "id": "synthetic-heading",
   "metadata": {},
   "source": [
    "# centralities "
   ]
  },
  {
   "cell_type": "markdown",
   "id": "moral-boating",
   "metadata": {},
   "source": [
    "## closeness"
   ]
  },
  {
   "cell_type": "code",
   "execution_count": 13,
   "id": "entitled-organizer",
   "metadata": {},
   "outputs": [
    {
     "name": "stdout",
     "output_type": "stream",
     "text": [
      "269 ns ± 5.04 ns per loop (mean ± std. dev. of 7 runs, 1000000 loops each)\n"
     ]
    }
   ],
   "source": [
    "%timeit closeness_centrality = nk.centrality.Closeness(G_nk, False, nk.centrality.ClosenessVariant.Generalized)"
   ]
  },
  {
   "cell_type": "markdown",
   "id": "standard-albania",
   "metadata": {},
   "source": [
    "## degree "
   ]
  },
  {
   "cell_type": "code",
   "execution_count": 14,
   "id": "desirable-estate",
   "metadata": {},
   "outputs": [
    {
     "name": "stdout",
     "output_type": "stream",
     "text": [
      "187 ns ± 7.14 ns per loop (mean ± std. dev. of 7 runs, 1000000 loops each)\n"
     ]
    }
   ],
   "source": [
    "%timeit degree_centrality = nk.centrality.DegreeCentrality(G_nk)"
   ]
  },
  {
   "cell_type": "markdown",
   "id": "formal-restriction",
   "metadata": {},
   "source": [
    "## eigen vector"
   ]
  },
  {
   "cell_type": "code",
   "execution_count": 15,
   "id": "angry-connectivity",
   "metadata": {},
   "outputs": [
    {
     "name": "stdout",
     "output_type": "stream",
     "text": [
      "179 ns ± 1.68 ns per loop (mean ± std. dev. of 7 runs, 10000000 loops each)\n"
     ]
    }
   ],
   "source": [
    "%timeit eigen_centrality = nk.centrality.EigenvectorCentrality(G_nk)"
   ]
  },
  {
   "cell_type": "code",
   "execution_count": 16,
   "id": "streaming-imagination",
   "metadata": {},
   "outputs": [
    {
     "name": "stdout",
     "output_type": "stream",
     "text": [
      "321 ms ± 19.5 ms per loop (mean ± std. dev. of 7 runs, 1 loop each)\n"
     ]
    }
   ],
   "source": [
    "%timeit eigen_centrality = gt.eigenvector(G_gt)"
   ]
  },
  {
   "cell_type": "markdown",
   "id": "enclosed-launch",
   "metadata": {},
   "source": [
    "## page rank"
   ]
  },
  {
   "cell_type": "code",
   "execution_count": 17,
   "id": "atlantic-imagination",
   "metadata": {},
   "outputs": [
    {
     "name": "stdout",
     "output_type": "stream",
     "text": [
      "200 ns ± 9 ns per loop (mean ± std. dev. of 7 runs, 1000000 loops each)\n"
     ]
    }
   ],
   "source": [
    "%timeit page_rank_centrality = nk.centrality.PageRank(G_nk, 1e-6)"
   ]
  },
  {
   "cell_type": "code",
   "execution_count": 18,
   "id": "pending-garbage",
   "metadata": {},
   "outputs": [
    {
     "name": "stdout",
     "output_type": "stream",
     "text": [
      "197 ms ± 17.7 ms per loop (mean ± std. dev. of 7 runs, 1 loop each)\n"
     ]
    }
   ],
   "source": [
    "%timeit page_rank_centrality = gt.pagerank(G_gt)"
   ]
  },
  {
   "cell_type": "markdown",
   "id": "accepted-oasis",
   "metadata": {},
   "source": [
    "## katz"
   ]
  },
  {
   "cell_type": "code",
   "execution_count": 19,
   "id": "neither-commons",
   "metadata": {},
   "outputs": [
    {
     "name": "stdout",
     "output_type": "stream",
     "text": [
      "196 ns ± 7.22 ns per loop (mean ± std. dev. of 7 runs, 1000000 loops each)\n"
     ]
    }
   ],
   "source": [
    "%timeit katz_centrality = nk.centrality.PageRank(G_nk, 1e-6)"
   ]
  },
  {
   "cell_type": "code",
   "execution_count": 20,
   "id": "parliamentary-theorem",
   "metadata": {},
   "outputs": [
    {
     "name": "stderr",
     "output_type": "stream",
     "text": [
      "/usr/lib/python3/dist-packages/graph_tool/centrality/__init__.py:757: RuntimeWarning: invalid value encountered in true_divide\n",
      "  vprop.fa = vprop.fa / numpy.linalg.norm(vprop.fa)\n"
     ]
    },
    {
     "name": "stdout",
     "output_type": "stream",
     "text": [
      "8.25 s ± 175 ms per loop (mean ± std. dev. of 7 runs, 1 loop each)\n"
     ]
    }
   ],
   "source": [
    "%timeit katz_centrality = gt.katz(G_gt)"
   ]
  },
  {
   "cell_type": "markdown",
   "id": "organizational-monitor",
   "metadata": {},
   "source": [
    "## HITS"
   ]
  },
  {
   "cell_type": "code",
   "execution_count": 21,
   "id": "specific-lawyer",
   "metadata": {},
   "outputs": [
    {
     "name": "stdout",
     "output_type": "stream",
     "text": [
      "511 ms ± 9.3 ms per loop (mean ± std. dev. of 7 runs, 1 loop each)\n"
     ]
    }
   ],
   "source": [
    "%timeit hits_centrality = gt.hits(G_gt)"
   ]
  },
  {
   "cell_type": "code",
   "execution_count": null,
   "id": "normal-encoding",
   "metadata": {},
   "outputs": [],
   "source": []
  }
 ],
 "metadata": {
  "kernelspec": {
   "display_name": "Python 3",
   "language": "python",
   "name": "python3"
  },
  "language_info": {
   "codemirror_mode": {
    "name": "ipython",
    "version": 3
   },
   "file_extension": ".py",
   "mimetype": "text/x-python",
   "name": "python",
   "nbconvert_exporter": "python",
   "pygments_lexer": "ipython3",
   "version": "3.8.5"
  }
 },
 "nbformat": 4,
 "nbformat_minor": 5
}
